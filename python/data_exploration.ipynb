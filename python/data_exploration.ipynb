{
 "cells": [
  {
   "cell_type": "code",
   "execution_count": null,
   "metadata": {},
   "outputs": [],
   "source": [
    "import pandas as pd\n",
    "import matplotlib.pyplot as plt\n"
   ]
  },
  {
   "cell_type": "code",
   "execution_count": null,
   "metadata": {},
   "outputs": [],
   "source": [
    "table_scan_data = pd.read_csv(\"data/train/TableScan.csv\")\n",
    "table_data = pd.read_csv(\"data/train/table_meta.csv\")\n",
    "columns_data = pd.read_csv(\"data/train/column_meta.csv\")\n",
    "chunk_meta = pd.read_csv(\"data/train/segment_meta.csv\")\n",
    "\n",
    "joined_data = table_scan_data.merge(table_data, on=[\"TABLE_NAME\"], how=\"left\")\n",
    "joined_data = joined_data.merge(columns_data, on=[\"TABLE_NAME\", \"COLUMN_NAME\"], how=\"left\")\n",
    "\n",
    "# only look at the encoding of the first chunk\n",
    "chunkrows = chunk_meta.loc[(chunk_meta['CHUNK_ID'] == 0)]\n",
    "joined_data = joined_data.merge(chunkrows, on=[\"TABLE_NAME\", \"COLUMN_NAME\"], how=\"left\")\n",
    "\n",
    "joined_data = joined_data.rename(columns={\"INPUT_ROWS_LEFT\": \"INPUT_ROWS\", \"CHUNK_SIZE\": \"MAX_CHUNK_SIZE\",\n",
    "                                          \"COLUMN_DATA_TYPE\": \"DATA_TYPE\", \"ENCODING_TYPE\": \"ENCODING\"})\n",
    "\n",
    "# remove the rows with ExpressionEvaluator queries from the test data since we don't have any in the test data\n",
    "joined_data = joined_data.loc[(joined_data['SCAN_IMPLEMENTATION'] != 'ExpressionEvaluator')]\n",
    "\n",
    "# explicitly add selectivity\n",
    "joined_data['SELECTIVITY'] = (joined_data['OUTPUT_ROWS'] / joined_data['INPUT_ROWS'])\n",
    "joined_data['SELECTIVITY'].fillna(0, inplace=True)"
   ]
  },
  {
   "cell_type": "code",
   "execution_count": null,
   "metadata": {},
   "outputs": [],
   "source": [
    "joined_data.describe()"
   ]
  },
  {
   "cell_type": "code",
   "execution_count": null,
   "metadata": {},
   "outputs": [],
   "source": [
    "ohe_data = joined_data.drop(labels=['TABLE_NAME', 'COLUMN_NAME'], axis=1)\n",
    "ohe_data = pd.get_dummies(ohe_data, columns=['SCAN_TYPE', 'DATA_TYPE', 'ENCODING'])\n",
    "ohe_data.head()"
   ]
  },
  {
   "cell_type": "code",
   "execution_count": null,
   "metadata": {},
   "outputs": [],
   "source": [
    "ohe_data.describe()"
   ]
  },
  {
   "cell_type": "code",
   "execution_count": null,
   "metadata": {},
   "outputs": [],
   "source": [
    "plt.scatter(ohe_data['INPUT_ROWS'],ohe_data['RUNTIME_NS'])"
   ]
  },
  {
   "cell_type": "code",
   "execution_count": null,
   "metadata": {},
   "outputs": [],
   "source": [
    "plt.scatter(ohe_data['SELECTIVITY'],ohe_data['RUNTIME_NS'])\n",
    "#plt.ylim(0, 100000)"
   ]
  },
  {
   "cell_type": "code",
   "execution_count": null,
   "metadata": {},
   "outputs": [],
   "source": [
    "weird_data = ohe_data.loc[(ohe_data['RUNTIME_NS'] < 100000) & (ohe_data['SELECTIVITY'] > 0) ]\n",
    "weird_data.head()\n",
    "plt.scatter(weird_data['SELECTIVITY'],weird_data['RUNTIME_NS'])"
   ]
  },
  {
   "cell_type": "code",
   "execution_count": null,
   "metadata": {},
   "outputs": [],
   "source": [
    "# looking at impact of the datatype\n",
    "\n",
    "floats = ohe_data.loc[ohe_data['DATA_TYPE_float'] == 1]\n",
    "ints = ohe_data.loc[ohe_data['DATA_TYPE_int'] == 1]\n",
    "strings = ohe_data.loc[ohe_data['DATA_TYPE_string'] == 1]\n",
    "longs = ohe_data.loc[ohe_data['DATA_TYPE_long'] == 1]\n",
    "doubles = ohe_data.loc[ohe_data['DATA_TYPE_double'] == 1]\n",
    "\n",
    "fig, axs = plt.subplots(2, 3, sharex=False, sharey=True, figsize=(15,9))\n",
    "fig.suptitle('Datatype')\n",
    "axs[0,0].scatter(floats['INPUT_ROWS'], floats['RUNTIME_NS'], color='r', alpha=0.5)\n",
    "axs[0, 0].set_title('Float')\n",
    "axs[0,1].scatter(ints['INPUT_ROWS'], ints['RUNTIME_NS'], color='b', alpha=0.5)\n",
    "axs[0, 1].set_title('Int')\n",
    "axs[0,2].scatter(strings['INPUT_ROWS'], strings['RUNTIME_NS'], color='g', alpha=0.5)\n",
    "axs[0, 2].set_title('String')\n",
    "axs[1,0].scatter(doubles['INPUT_ROWS'], doubles['RUNTIME_NS'], color='orange',alpha=0.5)\n",
    "axs[1,0].set_title('Double')\n",
    "axs[1,1].scatter(longs['INPUT_ROWS'], longs['RUNTIME_NS'], color='purple', alpha=0.5)\n",
    "axs[1,1].set_title('Long')\n",
    "\n",
    "# for labels\n",
    "fig.add_subplot(111, frameon=False)\n",
    "# hide tick and tick label of the big axis\n",
    "plt.tick_params(labelcolor='none', top=False, bottom=False, left=False, right=False)\n",
    "plt.xlabel(\"#Input Rows\")\n",
    "plt.ylabel(\"Time [ns]\")\n",
    "plt.show()"
   ]
  },
  {
   "cell_type": "code",
   "execution_count": null,
   "metadata": {},
   "outputs": [],
   "source": [
    "# looking at impact of the datatype\n",
    "\n",
    "floats = ohe_data.loc[ohe_data['DATA_TYPE_float'] == 1]\n",
    "ints = ohe_data.loc[ohe_data['DATA_TYPE_int'] == 1]\n",
    "strings = ohe_data.loc[ohe_data['DATA_TYPE_string'] == 1]\n",
    "longs = ohe_data.loc[ohe_data['DATA_TYPE_long'] == 1]\n",
    "doubles = ohe_data.loc[ohe_data['DATA_TYPE_double'] == 1]\n",
    "\n",
    "fig, axs = plt.subplots(2, 3, sharex=True, sharey=True, figsize=(15,9))\n",
    "fig.suptitle('Datatype')\n",
    "axs[0,0].scatter(floats['SELECTIVITY'], floats['RUNTIME_NS'], color='r', alpha=0.5)\n",
    "axs[0, 0].set_title('Float')\n",
    "axs[0,1].scatter(ints['SELECTIVITY'], ints['RUNTIME_NS'], color='b', alpha=0.5)\n",
    "axs[0, 1].set_title('Int')\n",
    "axs[0,2].scatter(strings['SELECTIVITY'], strings['RUNTIME_NS'], color='g', alpha=0.5)\n",
    "axs[0, 2].set_title('String')\n",
    "axs[1,0].scatter(doubles['SELECTIVITY'], doubles['RUNTIME_NS'], color='yellow',alpha=0.5)\n",
    "axs[1,0].set_title('Double')\n",
    "axs[1,1].scatter(longs['SELECTIVITY'], longs['RUNTIME_NS'], color='purple', alpha=0.5)\n",
    "axs[1,1].set_title('Long')\n",
    "#axs[0,0].set_ylim([0, 100000])\n",
    "# for labels\n",
    "fig.add_subplot(111, frameon=False)\n",
    "# hide tick and tick label of the big axis\n",
    "plt.tick_params(labelcolor='none', top=False, bottom=False, left=False, right=False)\n",
    "plt.xlabel(\"Selectivity\")\n",
    "plt.ylabel(\"Time\")\n",
    "plt.show()"
   ]
  },
  {
   "cell_type": "code",
   "execution_count": null,
   "metadata": {},
   "outputs": [],
   "source": [
    "# looks like strings can take way longer than the other datatypes"
   ]
  },
  {
   "cell_type": "code",
   "execution_count": null,
   "metadata": {},
   "outputs": [],
   "source": [
    "# looking at impact of the datatype\n",
    "\n",
    "dicts = ohe_data.loc[ohe_data['ENCODING_Dictionary'] == 1]\n",
    "fsdicts = ohe_data.loc[ohe_data['ENCODING_FixedStringDictionary'] == 1]\n",
    "forefs = ohe_data.loc[ohe_data['ENCODING_FrameOfReference'] == 1]\n",
    "lz4s = ohe_data.loc[ohe_data['ENCODING_LZ4'] == 1]\n",
    "runls = ohe_data.loc[ohe_data['ENCODING_RunLength'] == 1]\n",
    "noencs = ohe_data.loc[ohe_data['ENCODING_Unencoded'] == 1]\n",
    "\n",
    "fig, axs = plt.subplots(2, 3, sharex=True, sharey=True, figsize=(15,9))\n",
    "#ax=fig.add_axes([0,0,1,1])\n",
    "fig.suptitle('Encoding')\n",
    "axs[0,0].scatter(dicts['INPUT_ROWS'], dicts['RUNTIME_NS'], color='r', alpha=0.5)\n",
    "axs[0, 0].set_title('Dictionary')\n",
    "axs[0,1].scatter(fsdicts['INPUT_ROWS'], fsdicts['RUNTIME_NS'], color='b', alpha=0.5)\n",
    "axs[0, 1].set_title('FixedStringDict')\n",
    "axs[0,2].scatter(forefs['INPUT_ROWS'], forefs['RUNTIME_NS'], color='g', alpha=0.5)\n",
    "axs[0, 2].set_title('FrameOfReference')\n",
    "axs[1,0].scatter(lz4s['INPUT_ROWS'], lz4s['RUNTIME_NS'], color='yellow',alpha=0.5)\n",
    "axs[1, 0].set_title('LZ4')\n",
    "axs[1,1].scatter(runls['INPUT_ROWS'], runls['RUNTIME_NS'], color='purple', alpha=0.5)\n",
    "axs[1, 1].set_title('RunLength')\n",
    "axs[1,2].scatter(noencs['INPUT_ROWS'], noencs['RUNTIME_NS'], color='orange',alpha=0.5)\n",
    "axs[1, 2].set_title('Unencoded')\n",
    "\n",
    "# for labels\n",
    "fig.add_subplot(111, frameon=False)\n",
    "# hide tick and tick label of the big axis\n",
    "plt.tick_params(labelcolor='none', top=False, bottom=False, left=False, right=False)\n",
    "plt.xlabel(\"#Input Rows\")\n",
    "plt.ylabel(\"Time\")\n",
    "    \n",
    "plt.show()\n"
   ]
  },
  {
   "cell_type": "code",
   "execution_count": null,
   "metadata": {},
   "outputs": [],
   "source": [
    "# looking at impact of the datatype\n",
    "\n",
    "dicts = ohe_data.loc[ohe_data['ENCODING_Dictionary'] == 1]\n",
    "fsdicts = ohe_data.loc[ohe_data['ENCODING_FixedStringDictionary'] == 1]\n",
    "forefs = ohe_data.loc[ohe_data['ENCODING_FrameOfReference'] == 1]\n",
    "lz4s = ohe_data.loc[ohe_data['ENCODING_LZ4'] == 1]\n",
    "runls = ohe_data.loc[ohe_data['ENCODING_RunLength'] == 1]\n",
    "noencs = ohe_data.loc[ohe_data['ENCODING_Unencoded'] == 1]\n",
    "\n",
    "fig, axs = plt.subplots(2, 3, sharex=True, sharey=True, figsize=(15,9))\n",
    "#ax=fig.add_axes([0,0,1,1])\n",
    "fig.suptitle('Encoding')\n",
    "axs[0,0].scatter(dicts['SELECTIVITY'], dicts['RUNTIME_NS'], color='r', alpha=0.5)\n",
    "axs[0, 0].set_title('Dictionary')\n",
    "axs[0,1].scatter(fsdicts['SELECTIVITY'], fsdicts['RUNTIME_NS'], color='b', alpha=0.5)\n",
    "axs[0, 1].set_title('FixedStringDict')\n",
    "axs[0,2].scatter(forefs['SELECTIVITY'], forefs['RUNTIME_NS'], color='g', alpha=0.5)\n",
    "axs[0, 2].set_title('FrameOfReference')\n",
    "axs[1,0].scatter(lz4s['SELECTIVITY'], lz4s['RUNTIME_NS'], color='yellow',alpha=0.5)\n",
    "axs[1, 0].set_title('LZ4')\n",
    "axs[1,1].scatter(runls['SELECTIVITY'], runls['RUNTIME_NS'], color='purple', alpha=0.5)\n",
    "axs[1, 1].set_title('RunLength')\n",
    "axs[1,2].scatter(noencs['SELECTIVITY'], noencs['RUNTIME_NS'], color='orange',alpha=0.5)\n",
    "axs[1, 2].set_title('Unencoded')\n",
    "#axs[0,0].set_ylim([0, 100000])\n",
    "\n",
    "# for labels\n",
    "fig.add_subplot(111, frameon=False)\n",
    "# hide tick and tick label of the big axis\n",
    "plt.tick_params(labelcolor='none', top=False, bottom=False, left=False, right=False)\n",
    "plt.xlabel(\"Selectivity\")\n",
    "plt.ylabel(\"Time\")\n",
    "    \n",
    "plt.show()\n"
   ]
  },
  {
   "cell_type": "code",
   "execution_count": null,
   "metadata": {},
   "outputs": [],
   "source": []
  }
 ],
 "metadata": {
  "kernelspec": {
   "display_name": "Python 3",
   "language": "python",
   "name": "python3"
  },
  "language_info": {
   "codemirror_mode": {
    "name": "ipython",
    "version": 3
   },
   "file_extension": ".py",
   "mimetype": "text/x-python",
   "name": "python",
   "nbconvert_exporter": "python",
   "pygments_lexer": "ipython3",
   "version": "3.7.6"
  }
 },
 "nbformat": 4,
 "nbformat_minor": 2
}
