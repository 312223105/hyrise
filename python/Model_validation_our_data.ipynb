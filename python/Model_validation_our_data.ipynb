{
 "cells": [
  {
   "cell_type": "code",
   "execution_count": 1,
   "metadata": {},
   "outputs": [],
   "source": [
    "import pandas as pd\n",
    "from sklearn.linear_model import LinearRegression\n",
    "from sklearn.metrics import mean_squared_error\n",
    "import matplotlib.pyplot as plt\n",
    "import joblib\n",
    "import numpy as np"
   ]
  },
  {
   "cell_type": "code",
   "execution_count": 2,
   "metadata": {},
   "outputs": [],
   "source": [
    "# load models\n",
    "\n",
    "lin_int_model = joblib.load('models/splitted_linear_int_Dictionary_model.sav')\n",
    "ridge_int_model = joblib.load('models/splitted_ridge_int_Dictionary_model.sav')\n",
    "lasso_int_model = joblib.load('models/splitted_lasso_int_Dictionary_model.sav')\n",
    "boost_int_model = joblib.load('models/splitted_boost_int_Dictionary_model.sav')\n"
   ]
  },
  {
   "cell_type": "code",
   "execution_count": 3,
   "metadata": {},
   "outputs": [
    {
     "data": {
      "text/html": [
       "<div>\n",
       "<style scoped>\n",
       "    .dataframe tbody tr th:only-of-type {\n",
       "        vertical-align: middle;\n",
       "    }\n",
       "\n",
       "    .dataframe tbody tr th {\n",
       "        vertical-align: top;\n",
       "    }\n",
       "\n",
       "    .dataframe thead th {\n",
       "        text-align: right;\n",
       "    }\n",
       "</style>\n",
       "<table border=\"1\" class=\"dataframe\">\n",
       "  <thead>\n",
       "    <tr style=\"text-align: right;\">\n",
       "      <th></th>\n",
       "      <th>INPUT_ROWS</th>\n",
       "      <th>OUTPUT_ROWS</th>\n",
       "      <th>RUNTIME_NS</th>\n",
       "      <th>ROW_COUNT</th>\n",
       "      <th>MAX_CHUNK_SIZE</th>\n",
       "      <th>SELECTIVITY</th>\n",
       "      <th>SCAN_TYPE_COLUMN_SCAN</th>\n",
       "      <th>DATA_TYPE_int</th>\n",
       "      <th>ENCODING_Dictionary</th>\n",
       "    </tr>\n",
       "  </thead>\n",
       "  <tbody>\n",
       "    <tr>\n",
       "      <th>1744</th>\n",
       "      <td>700000</td>\n",
       "      <td>349449</td>\n",
       "      <td>188197486</td>\n",
       "      <td>700000</td>\n",
       "      <td>1000</td>\n",
       "      <td>0.499213</td>\n",
       "      <td>1</td>\n",
       "      <td>1</td>\n",
       "      <td>1</td>\n",
       "    </tr>\n",
       "    <tr>\n",
       "      <th>1741</th>\n",
       "      <td>700000</td>\n",
       "      <td>559544</td>\n",
       "      <td>177078036</td>\n",
       "      <td>700000</td>\n",
       "      <td>1000</td>\n",
       "      <td>0.799349</td>\n",
       "      <td>1</td>\n",
       "      <td>1</td>\n",
       "      <td>1</td>\n",
       "    </tr>\n",
       "    <tr>\n",
       "      <th>1356</th>\n",
       "      <td>500000</td>\n",
       "      <td>449331</td>\n",
       "      <td>146636602</td>\n",
       "      <td>500000</td>\n",
       "      <td>1000</td>\n",
       "      <td>0.898662</td>\n",
       "      <td>1</td>\n",
       "      <td>1</td>\n",
       "      <td>1</td>\n",
       "    </tr>\n",
       "    <tr>\n",
       "      <th>1362</th>\n",
       "      <td>500000</td>\n",
       "      <td>150211</td>\n",
       "      <td>102694800</td>\n",
       "      <td>500000</td>\n",
       "      <td>1000</td>\n",
       "      <td>0.300422</td>\n",
       "      <td>1</td>\n",
       "      <td>1</td>\n",
       "      <td>1</td>\n",
       "    </tr>\n",
       "    <tr>\n",
       "      <th>783</th>\n",
       "      <td>200000</td>\n",
       "      <td>119990</td>\n",
       "      <td>49054110</td>\n",
       "      <td>200000</td>\n",
       "      <td>1000</td>\n",
       "      <td>0.599950</td>\n",
       "      <td>1</td>\n",
       "      <td>1</td>\n",
       "      <td>1</td>\n",
       "    </tr>\n",
       "  </tbody>\n",
       "</table>\n",
       "</div>"
      ],
      "text/plain": [
       "      INPUT_ROWS  OUTPUT_ROWS  RUNTIME_NS  ROW_COUNT  MAX_CHUNK_SIZE  \\\n",
       "1744      700000       349449   188197486     700000            1000   \n",
       "1741      700000       559544   177078036     700000            1000   \n",
       "1356      500000       449331   146636602     500000            1000   \n",
       "1362      500000       150211   102694800     500000            1000   \n",
       "783       200000       119990    49054110     200000            1000   \n",
       "\n",
       "      SELECTIVITY  SCAN_TYPE_COLUMN_SCAN  DATA_TYPE_int  ENCODING_Dictionary  \n",
       "1744     0.499213                      1              1                    1  \n",
       "1741     0.799349                      1              1                    1  \n",
       "1356     0.898662                      1              1                    1  \n",
       "1362     0.300422                      1              1                    1  \n",
       "783      0.599950                      1              1                    1  "
      ]
     },
     "execution_count": 3,
     "metadata": {},
     "output_type": "execute_result"
    }
   ],
   "source": [
    "# load test data\n",
    "int_data = joblib.load('data/splitted_int_Dictionary_train_data.sav')\n",
    "ohe_data = int_data.drop(labels=['TABLE_NAME', 'COLUMN_NAME'], axis=1)\n",
    "ohe_data = pd.get_dummies(ohe_data, columns=['SCAN_TYPE', 'DATA_TYPE', 'ENCODING'])\n",
    "ohe_data.head()"
   ]
  },
  {
   "cell_type": "code",
   "execution_count": 4,
   "metadata": {},
   "outputs": [],
   "source": [
    "int_real_y = ohe_data[['RUNTIME_NS']]\n",
    "int_data = ohe_data.drop(labels=['RUNTIME_NS'], axis=1)\n",
    "lin_pred_y = lin_int_model.predict(int_data)\n",
    "lasso_pred_y = lasso_int_model.predict(int_data)\n",
    "ridge_pred_y = ridge_int_model.predict(int_data)\n",
    "boost_pred_y = boost_int_model.predict(int_data)\n"
   ]
  },
  {
   "cell_type": "code",
   "execution_count": 7,
   "metadata": {},
   "outputs": [
    {
     "data": {
      "image/png": "[encoded data removed]",
      "text/plain": [
       "<Figure size 1368x288 with 5 Axes>"
      ]
     },
     "metadata": {
      "needs_background": "light"
     },
     "output_type": "display_data"
    }
   ],
   "source": [
    "fig, axs = plt.subplots(1, 4, figsize=(19,4))\n",
    "fig.suptitle('Datatype')\n",
    "\n",
    "axs[0].scatter(int_real_y, lin_pred_y)\n",
    "axs[0].set_title('Lin')\n",
    "axs[0].set_ylim([0, max(np.amax(lin_pred_y), np.amax(int_real_y.to_numpy())) + 10000000])\n",
    "axs[0].set_xlim([0, max(np.amax(lin_pred_y), np.amax(int_real_y.to_numpy())) + 10000000])\n",
    "#axs[0,0].set_ylim([0, max(np.amax(float_pred_y), np.amax(float_real_y.to_numpy())) + 10000000])\n",
    "#axs[0,0].set_xlim([0, max(np.amax(float_pred_y), np.amax(float_real_y.to_numpy())) + 10000000])\n",
    "axs[1].scatter(int_real_y, lasso_pred_y)\n",
    "axs[1].set_title('Lasso')\n",
    "axs[1].set_ylim([0, max(np.amax(lasso_pred_y), np.amax(int_real_y.to_numpy())) + 10000000])\n",
    "axs[1].set_xlim([0, max(np.amax(lasso_pred_y), np.amax(int_real_y.to_numpy())) + 10000000])\n",
    "#axs[0,1].scatter(int_real_y, int_pred_y)\n",
    "#axs[0,1].set_title('Int')\n",
    "#axs[0,1].set_ylim([0, max(np.amax(int_pred_y), np.amax(int_real_y.to_numpy())) + 10000000])\n",
    "#axs[0,1].set_xlim([0, max(np.amax(int_pred_y), np.amax(int_real_y.to_numpy())) + 10000000])\n",
    "axs[2].scatter(int_real_y, ridge_pred_y)\n",
    "axs[2].set_title('Ridge')\n",
    "axs[2].set_ylim([0, max(np.amax(ridge_pred_y), np.amax(int_real_y.to_numpy())) + 10000000])\n",
    "axs[2].set_xlim([0, max(np.amax(ridge_pred_y), np.amax(int_real_y.to_numpy())) + 10000000])\n",
    "axs[3].scatter(int_real_y, boost_pred_y)\n",
    "axs[3].set_title('Boost')\n",
    "axs[3].set_ylim([0, max(np.amax(boost_pred_y), np.amax(int_real_y.to_numpy())) + 10000000])\n",
    "axs[3].set_xlim([0, max(np.amax(boost_pred_y), np.amax(int_real_y.to_numpy())) + 10000000])\n",
    "#axs[0,2].scatter(string_real_y, string_pred_y)\n",
    "#axs[0,2].set_title('String')\n",
    "#axs[0,2].set_ylim([0, max(np.amax(string_pred_y), np.amax(string_real_y.to_numpy())) + 10000000])\n",
    "#axs[0,2].set_xlim([0, max(np.amax(string_pred_y), np.amax(string_real_y.to_numpy())) + 10000000])\n",
    "#axs[1,2].scatter(string_real_y, string_pred_y)\n",
    "#axs[1,2].set_title('String')\n",
    "# max_y = max(max(np.amax(float_pred_y), np.amax(int_pred_y)), np.amax(string_pred_y))\n",
    "# max_x = max(max(np.amax(float_real_y.to_numpy()), np.amax(int_real_y.to_numpy())), np.amax(string_real_y.to_numpy()))\n",
    "# max_scale = max(max_x, max_y)\n",
    "\n",
    "\n",
    "# for labels\n",
    "fig.add_subplot(111, frameon=False)\n",
    "# hide tick and tick label of the big axis\n",
    "plt.tick_params(labelcolor='none', top=False, bottom=False, left=False, right=False)\n",
    "plt.xlabel(\"Real Time\")\n",
    "plt.ylabel(\"Predicted Time\")\n",
    "plt.show()"
   ]
  },
  {
   "cell_type": "code",
   "execution_count": null,
   "metadata": {},
   "outputs": [],
   "source": []
  }
 ],
 "metadata": {
  "kernelspec": {
   "display_name": "Python 3",
   "language": "python",
   "name": "python3"
  },
  "language_info": {
   "codemirror_mode": {
    "name": "ipython",
    "version": 3
   },
   "file_extension": ".py",
   "mimetype": "text/x-python",
   "name": "python",
   "nbconvert_exporter": "python",
   "pygments_lexer": "ipython3",
   "version": "3.6.9"
  }
 },
 "nbformat": 4,
 "nbformat_minor": 2
}
