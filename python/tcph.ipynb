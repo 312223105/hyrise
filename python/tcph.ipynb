{
 "cells": [
  {
   "cell_type": "markdown",
   "metadata": {},
   "source": [
    "import pandas as pd\n",
    "import numpy as np\n",
    "from matplotlib import pyplot as plt"
   ]
  },
  {
   "cell_type": "code",
   "execution_count": 2,
   "metadata": {},
   "outputs": [],
   "source": [
    "import pandas as pd\n",
    "from sklearn.linear_model import LinearRegression\n",
    "from sklearn.metrics import mean_squared_error\n",
    "import sys\n",
    "import matplotlib.pyplot as plt"
   ]
  },
  {
   "cell_type": "code",
   "execution_count": 3,
   "metadata": {},
   "outputs": [],
   "source": [
    "#Load all data\n",
    "table_scans = pd.read_csv(\"data/table_scans.csv\")\n",
    "table_meta_data = pd.read_csv(\"data/table_meta_data.csv\")\n",
    "segment_meta_data = pd.read_csv(\"data/segment_meta_data.csv\")\n",
    "attribute_meta_data = pd.read_csv(\"data/attribute_meta_data.csv\")"
   ]
  },
  {
   "cell_type": "code",
   "execution_count": 4,
   "metadata": {},
   "outputs": [],
   "source": [
    "table_scans = table_scans.merge(table_meta_data, on=\"TABLE_NAME\", how=\"left\")\n",
    "table_scans = table_scans.merge(attribute_meta_data, on=\"COLUMN_NAME\", how=\"left\")\n",
    "table_scans = table_scans.merge(segment_meta_data, on=\"COLUMN_NAME\", how=\"left\")"
   ]
  },
  {
   "cell_type": "code",
   "execution_count": 5,
   "metadata": {},
   "outputs": [],
   "source": [
    "table_scans = table_scans[['SCAN_TYPE', 'TABLE_NAME', 'COLUMN_NAME', 'INPUT_ROWS',\n",
    "       'OUTPUT_ROWS', 'RUNTIME_NS', 'ROW_COUNT_x',\n",
    "       'MAX_CHUNK_SIZE', 'DATA_TYPE',\n",
    "       'DISTINCT_VALUE_COUNT', 'IS_NULLABLE',\n",
    "       'ENCODING', 'COMPRESSION', 'SIZE_IN_BYTES']]\n",
    "table_scans = table_scans.rename(columns={\"TABLE_NAME_x\": \"TABLE_NAME\", \"ROW_COUNT_x\": \"ROW_COUNT\"})"
   ]
  },
  {
   "cell_type": "code",
   "execution_count": 6,
   "metadata": {},
   "outputs": [
    {
     "data": {
      "text/html": [
       "<div>\n",
       "<style scoped>\n",
       "    .dataframe tbody tr th:only-of-type {\n",
       "        vertical-align: middle;\n",
       "    }\n",
       "\n",
       "    .dataframe tbody tr th {\n",
       "        vertical-align: top;\n",
       "    }\n",
       "\n",
       "    .dataframe thead th {\n",
       "        text-align: right;\n",
       "    }\n",
       "</style>\n",
       "<table border=\"1\" class=\"dataframe\">\n",
       "  <thead>\n",
       "    <tr style=\"text-align: right;\">\n",
       "      <th></th>\n",
       "      <th>SCAN_TYPE</th>\n",
       "      <th>TABLE_NAME</th>\n",
       "      <th>COLUMN_NAME</th>\n",
       "      <th>INPUT_ROWS</th>\n",
       "      <th>OUTPUT_ROWS</th>\n",
       "      <th>RUNTIME_NS</th>\n",
       "      <th>ROW_COUNT</th>\n",
       "      <th>MAX_CHUNK_SIZE</th>\n",
       "      <th>DATA_TYPE</th>\n",
       "      <th>DISTINCT_VALUE_COUNT</th>\n",
       "      <th>IS_NULLABLE</th>\n",
       "      <th>ENCODING</th>\n",
       "      <th>COMPRESSION</th>\n",
       "      <th>SIZE_IN_BYTES</th>\n",
       "    </tr>\n",
       "  </thead>\n",
       "  <tbody>\n",
       "    <tr>\n",
       "      <th>0</th>\n",
       "      <td>COLUMN_SCAN</td>\n",
       "      <td>customer</td>\n",
       "      <td>c_acctbal</td>\n",
       "      <td>150000</td>\n",
       "      <td>68274</td>\n",
       "      <td>18720022</td>\n",
       "      <td>150000</td>\n",
       "      <td>100000</td>\n",
       "      <td>float</td>\n",
       "      <td>140187</td>\n",
       "      <td>False</td>\n",
       "      <td>Dictionary</td>\n",
       "      <td>FixedSize4ByteAligned</td>\n",
       "      <td>782068</td>\n",
       "    </tr>\n",
       "    <tr>\n",
       "      <th>1</th>\n",
       "      <td>COLUMN_SCAN</td>\n",
       "      <td>customer</td>\n",
       "      <td>c_acctbal</td>\n",
       "      <td>150000</td>\n",
       "      <td>68274</td>\n",
       "      <td>18720022</td>\n",
       "      <td>150000</td>\n",
       "      <td>100000</td>\n",
       "      <td>float</td>\n",
       "      <td>140187</td>\n",
       "      <td>False</td>\n",
       "      <td>Dictionary</td>\n",
       "      <td>FixedSize2ByteAligned</td>\n",
       "      <td>295668</td>\n",
       "    </tr>\n",
       "    <tr>\n",
       "      <th>2</th>\n",
       "      <td>REFERENCE_SCAN</td>\n",
       "      <td>customer</td>\n",
       "      <td>c_phone</td>\n",
       "      <td>68274</td>\n",
       "      <td>18927</td>\n",
       "      <td>9302836</td>\n",
       "      <td>150000</td>\n",
       "      <td>100000</td>\n",
       "      <td>string</td>\n",
       "      <td>150000</td>\n",
       "      <td>False</td>\n",
       "      <td>Dictionary</td>\n",
       "      <td>FixedSize4ByteAligned</td>\n",
       "      <td>3600064</td>\n",
       "    </tr>\n",
       "    <tr>\n",
       "      <th>3</th>\n",
       "      <td>REFERENCE_SCAN</td>\n",
       "      <td>customer</td>\n",
       "      <td>c_phone</td>\n",
       "      <td>68274</td>\n",
       "      <td>18927</td>\n",
       "      <td>9302836</td>\n",
       "      <td>150000</td>\n",
       "      <td>100000</td>\n",
       "      <td>string</td>\n",
       "      <td>150000</td>\n",
       "      <td>False</td>\n",
       "      <td>Dictionary</td>\n",
       "      <td>FixedSize2ByteAligned</td>\n",
       "      <td>1700064</td>\n",
       "    </tr>\n",
       "    <tr>\n",
       "      <th>4</th>\n",
       "      <td>COLUMN_SCAN</td>\n",
       "      <td>customer</td>\n",
       "      <td>c_acctbal</td>\n",
       "      <td>150000</td>\n",
       "      <td>68269</td>\n",
       "      <td>19204111</td>\n",
       "      <td>150000</td>\n",
       "      <td>100000</td>\n",
       "      <td>float</td>\n",
       "      <td>140187</td>\n",
       "      <td>False</td>\n",
       "      <td>Dictionary</td>\n",
       "      <td>FixedSize4ByteAligned</td>\n",
       "      <td>782068</td>\n",
       "    </tr>\n",
       "  </tbody>\n",
       "</table>\n",
       "</div>"
      ],
      "text/plain": [
       "        SCAN_TYPE TABLE_NAME COLUMN_NAME  INPUT_ROWS  OUTPUT_ROWS  RUNTIME_NS  \\\n",
       "0     COLUMN_SCAN   customer   c_acctbal      150000        68274    18720022   \n",
       "1     COLUMN_SCAN   customer   c_acctbal      150000        68274    18720022   \n",
       "2  REFERENCE_SCAN   customer     c_phone       68274        18927     9302836   \n",
       "3  REFERENCE_SCAN   customer     c_phone       68274        18927     9302836   \n",
       "4     COLUMN_SCAN   customer   c_acctbal      150000        68269    19204111   \n",
       "\n",
       "   ROW_COUNT  MAX_CHUNK_SIZE DATA_TYPE  DISTINCT_VALUE_COUNT  IS_NULLABLE  \\\n",
       "0     150000          100000     float                140187        False   \n",
       "1     150000          100000     float                140187        False   \n",
       "2     150000          100000    string                150000        False   \n",
       "3     150000          100000    string                150000        False   \n",
       "4     150000          100000     float                140187        False   \n",
       "\n",
       "     ENCODING            COMPRESSION  SIZE_IN_BYTES  \n",
       "0  Dictionary  FixedSize4ByteAligned         782068  \n",
       "1  Dictionary  FixedSize2ByteAligned         295668  \n",
       "2  Dictionary  FixedSize4ByteAligned        3600064  \n",
       "3  Dictionary  FixedSize2ByteAligned        1700064  \n",
       "4  Dictionary  FixedSize4ByteAligned         782068  "
      ]
     },
     "execution_count": 6,
     "metadata": {},
     "output_type": "execute_result"
    }
   ],
   "source": [
    "table_scans.head()"
   ]
  },
  {
   "cell_type": "code",
   "execution_count": 7,
   "metadata": {},
   "outputs": [
    {
     "data": {
      "text/html": [
       "<div>\n",
       "<style scoped>\n",
       "    .dataframe tbody tr th:only-of-type {\n",
       "        vertical-align: middle;\n",
       "    }\n",
       "\n",
       "    .dataframe tbody tr th {\n",
       "        vertical-align: top;\n",
       "    }\n",
       "\n",
       "    .dataframe thead th {\n",
       "        text-align: right;\n",
       "    }\n",
       "</style>\n",
       "<table border=\"1\" class=\"dataframe\">\n",
       "  <thead>\n",
       "    <tr style=\"text-align: right;\">\n",
       "      <th></th>\n",
       "      <th>INPUT_ROWS</th>\n",
       "      <th>OUTPUT_ROWS</th>\n",
       "      <th>RUNTIME_NS</th>\n",
       "      <th>ROW_COUNT</th>\n",
       "      <th>MAX_CHUNK_SIZE</th>\n",
       "      <th>DISTINCT_VALUE_COUNT</th>\n",
       "      <th>SIZE_IN_BYTES</th>\n",
       "      <th>SELECTIVITY</th>\n",
       "      <th>SCAN_TYPE_COLUMN_SCAN</th>\n",
       "      <th>SCAN_TYPE_REFERENCE_SCAN</th>\n",
       "      <th>DATA_TYPE_float</th>\n",
       "      <th>DATA_TYPE_int</th>\n",
       "      <th>DATA_TYPE_string</th>\n",
       "      <th>IS_NULLABLE_False</th>\n",
       "      <th>ENCODING_Dictionary</th>\n",
       "      <th>COMPRESSION_FixedSize1ByteAligned</th>\n",
       "      <th>COMPRESSION_FixedSize2ByteAligned</th>\n",
       "      <th>COMPRESSION_FixedSize4ByteAligned</th>\n",
       "    </tr>\n",
       "  </thead>\n",
       "  <tbody>\n",
       "    <tr>\n",
       "      <th>0</th>\n",
       "      <td>150000</td>\n",
       "      <td>68274</td>\n",
       "      <td>18720022</td>\n",
       "      <td>150000</td>\n",
       "      <td>100000</td>\n",
       "      <td>140187</td>\n",
       "      <td>782068</td>\n",
       "      <td>0.455160</td>\n",
       "      <td>1</td>\n",
       "      <td>0</td>\n",
       "      <td>1</td>\n",
       "      <td>0</td>\n",
       "      <td>0</td>\n",
       "      <td>1</td>\n",
       "      <td>1</td>\n",
       "      <td>0</td>\n",
       "      <td>0</td>\n",
       "      <td>1</td>\n",
       "    </tr>\n",
       "    <tr>\n",
       "      <th>1</th>\n",
       "      <td>150000</td>\n",
       "      <td>68274</td>\n",
       "      <td>18720022</td>\n",
       "      <td>150000</td>\n",
       "      <td>100000</td>\n",
       "      <td>140187</td>\n",
       "      <td>295668</td>\n",
       "      <td>0.455160</td>\n",
       "      <td>1</td>\n",
       "      <td>0</td>\n",
       "      <td>1</td>\n",
       "      <td>0</td>\n",
       "      <td>0</td>\n",
       "      <td>1</td>\n",
       "      <td>1</td>\n",
       "      <td>0</td>\n",
       "      <td>1</td>\n",
       "      <td>0</td>\n",
       "    </tr>\n",
       "    <tr>\n",
       "      <th>2</th>\n",
       "      <td>68274</td>\n",
       "      <td>18927</td>\n",
       "      <td>9302836</td>\n",
       "      <td>150000</td>\n",
       "      <td>100000</td>\n",
       "      <td>150000</td>\n",
       "      <td>3600064</td>\n",
       "      <td>0.277221</td>\n",
       "      <td>0</td>\n",
       "      <td>1</td>\n",
       "      <td>0</td>\n",
       "      <td>0</td>\n",
       "      <td>1</td>\n",
       "      <td>1</td>\n",
       "      <td>1</td>\n",
       "      <td>0</td>\n",
       "      <td>0</td>\n",
       "      <td>1</td>\n",
       "    </tr>\n",
       "    <tr>\n",
       "      <th>3</th>\n",
       "      <td>68274</td>\n",
       "      <td>18927</td>\n",
       "      <td>9302836</td>\n",
       "      <td>150000</td>\n",
       "      <td>100000</td>\n",
       "      <td>150000</td>\n",
       "      <td>1700064</td>\n",
       "      <td>0.277221</td>\n",
       "      <td>0</td>\n",
       "      <td>1</td>\n",
       "      <td>0</td>\n",
       "      <td>0</td>\n",
       "      <td>1</td>\n",
       "      <td>1</td>\n",
       "      <td>1</td>\n",
       "      <td>0</td>\n",
       "      <td>1</td>\n",
       "      <td>0</td>\n",
       "    </tr>\n",
       "    <tr>\n",
       "      <th>4</th>\n",
       "      <td>150000</td>\n",
       "      <td>68269</td>\n",
       "      <td>19204111</td>\n",
       "      <td>150000</td>\n",
       "      <td>100000</td>\n",
       "      <td>140187</td>\n",
       "      <td>782068</td>\n",
       "      <td>0.455127</td>\n",
       "      <td>1</td>\n",
       "      <td>0</td>\n",
       "      <td>1</td>\n",
       "      <td>0</td>\n",
       "      <td>0</td>\n",
       "      <td>1</td>\n",
       "      <td>1</td>\n",
       "      <td>0</td>\n",
       "      <td>0</td>\n",
       "      <td>1</td>\n",
       "    </tr>\n",
       "  </tbody>\n",
       "</table>\n",
       "</div>"
      ],
      "text/plain": [
       "   INPUT_ROWS  OUTPUT_ROWS  RUNTIME_NS  ROW_COUNT  MAX_CHUNK_SIZE  \\\n",
       "0      150000        68274    18720022     150000          100000   \n",
       "1      150000        68274    18720022     150000          100000   \n",
       "2       68274        18927     9302836     150000          100000   \n",
       "3       68274        18927     9302836     150000          100000   \n",
       "4      150000        68269    19204111     150000          100000   \n",
       "\n",
       "   DISTINCT_VALUE_COUNT  SIZE_IN_BYTES  SELECTIVITY  SCAN_TYPE_COLUMN_SCAN  \\\n",
       "0                140187         782068     0.455160                      1   \n",
       "1                140187         295668     0.455160                      1   \n",
       "2                150000        3600064     0.277221                      0   \n",
       "3                150000        1700064     0.277221                      0   \n",
       "4                140187         782068     0.455127                      1   \n",
       "\n",
       "   SCAN_TYPE_REFERENCE_SCAN  DATA_TYPE_float  DATA_TYPE_int  DATA_TYPE_string  \\\n",
       "0                         0                1              0                 0   \n",
       "1                         0                1              0                 0   \n",
       "2                         1                0              0                 1   \n",
       "3                         1                0              0                 1   \n",
       "4                         0                1              0                 0   \n",
       "\n",
       "   IS_NULLABLE_False  ENCODING_Dictionary  COMPRESSION_FixedSize1ByteAligned  \\\n",
       "0                  1                    1                                  0   \n",
       "1                  1                    1                                  0   \n",
       "2                  1                    1                                  0   \n",
       "3                  1                    1                                  0   \n",
       "4                  1                    1                                  0   \n",
       "\n",
       "   COMPRESSION_FixedSize2ByteAligned  COMPRESSION_FixedSize4ByteAligned  \n",
       "0                                  0                                  1  \n",
       "1                                  1                                  0  \n",
       "2                                  0                                  1  \n",
       "3                                  1                                  0  \n",
       "4                                  0                                  1  "
      ]
     },
     "execution_count": 7,
     "metadata": {},
     "output_type": "execute_result"
    }
   ],
   "source": [
    "ohe_data = table_scans.drop(labels=['TABLE_NAME', 'COLUMN_NAME'], axis=1)\n",
    "ohe_data['SELECTIVITY'] = (ohe_data['OUTPUT_ROWS'])/(ohe_data['INPUT_ROWS'])\n",
    "ohe_data = pd.get_dummies(ohe_data, columns=['SCAN_TYPE', 'DATA_TYPE', 'IS_NULLABLE',\n",
    "       'ENCODING', 'COMPRESSION'])\n",
    "ohe_data.head()"
   ]
  },
  {
   "cell_type": "code",
   "execution_count": 8,
   "metadata": {},
   "outputs": [
    {
     "data": {
      "text/plain": [
       "<matplotlib.collections.PathCollection at 0x7f655b5e7c88>"
      ]
     },
     "execution_count": 8,
     "metadata": {},
     "output_type": "execute_result"
    },
    {
     "data": {
      "image/png": "[encoded data removed]",
      "text/plain": [
       "<Figure size 432x288 with 1 Axes>"
      ]
     },
     "metadata": {
      "needs_background": "light"
     },
     "output_type": "display_data"
    }
   ],
   "source": [
    "plt.scatter(table_scans['INPUT_ROWS'],table_scans['RUNTIME_NS'])"
   ]
  },
  {
   "cell_type": "code",
   "execution_count": 15,
   "metadata": {},
   "outputs": [
    {
     "data": {
      "image/png": "[encoded data removed]",
      "text/plain": [
       "<Figure size 1080x288 with 4 Axes>"
      ]
     },
     "metadata": {
      "needs_background": "light"
     },
     "output_type": "display_data"
    }
   ],
   "source": [
    "# looking at impact of the datatype\n",
    "\n",
    "floats = ohe_data.loc[ohe_data['DATA_TYPE_float'] == 1]\n",
    "ints = ohe_data.loc[ohe_data['DATA_TYPE_int'] == 1]\n",
    "strings = ohe_data.loc[ohe_data['DATA_TYPE_string'] == 1]\n",
    "\n",
    "fig, axs = plt.subplots(1, 3, sharex=True, sharey=True, figsize=(15,4))\n",
    "fig.suptitle('Datatype')\n",
    "axs[0].scatter(floats['INPUT_ROWS'], floats['RUNTIME_NS'], color='r', alpha=0.5)\n",
    "axs[0].set_title('Float')\n",
    "axs[1].scatter(ints['INPUT_ROWS'], ints['RUNTIME_NS'], color='b', alpha=0.5)\n",
    "axs[1].set_title('Int')\n",
    "axs[2].scatter(strings['INPUT_ROWS'], strings['RUNTIME_NS'], color='g', alpha=0.5)\n",
    "axs[2].set_title('String')\n",
    "\n",
    "# for labels\n",
    "fig.add_subplot(111, frameon=False)\n",
    "# hide tick and tick label of the big axis\n",
    "plt.tick_params(labelcolor='none', top=False, bottom=False, left=False, right=False)\n",
    "plt.xlabel(\"#Input Rows\")\n",
    "plt.ylabel(\"Time\")\n",
    "plt.show()"
   ]
  },
  {
   "cell_type": "code",
   "execution_count": 13,
   "metadata": {},
   "outputs": [
    {
     "data": {
      "image/png": "[encoded data removed]",
      "text/plain": [
       "<Figure size 1080x288 with 4 Axes>"
      ]
     },
     "metadata": {
      "needs_background": "light"
     },
     "output_type": "display_data"
    }
   ],
   "source": [
    "# looking at impact of the datatype\n",
    "\n",
    "floats = ohe_data.loc[ohe_data['DATA_TYPE_float'] == 1]\n",
    "ints = ohe_data.loc[ohe_data['DATA_TYPE_int'] == 1]\n",
    "strings = ohe_data.loc[ohe_data['DATA_TYPE_string'] == 1]\n",
    "\n",
    "fig, axs = plt.subplots(1, 3, sharex=True, sharey=True, figsize=(15,4))\n",
    "fig.suptitle('Datatype')\n",
    "axs[0].scatter(floats['SELECTIVITY'], floats['RUNTIME_NS'], color='r', alpha=0.5)\n",
    "axs[0].set_title('Float')\n",
    "axs[1].scatter(ints['SELECTIVITY'], ints['RUNTIME_NS'], color='b', alpha=0.5)\n",
    "axs[1].set_title('Int')\n",
    "axs[2].scatter(strings['SELECTIVITY'], strings['RUNTIME_NS'], color='g', alpha=0.5)\n",
    "axs[2].set_title('String')\n",
    "\n",
    "# for labels\n",
    "fig.add_subplot(111, frameon=False)\n",
    "# hide tick and tick label of the big axis\n",
    "plt.tick_params(labelcolor='none', top=False, bottom=False, left=False, right=False)\n",
    "plt.xlabel(\"Selectivity\")\n",
    "plt.ylabel(\"Time\")\n",
    "plt.show()"
   ]
  },
  {
   "cell_type": "code",
   "execution_count": 19,
   "metadata": {},
   "outputs": [
    {
     "data": {
      "image/png": "[encoded data removed]",
      "text/plain": [
       "<Figure size 432x288 with 1 Axes>"
      ]
     },
     "metadata": {
      "needs_background": "light"
     },
     "output_type": "display_data"
    }
   ],
   "source": [
    "# looking at impact of the compression\n",
    "\n",
    "c1 = ohe_data.loc[ohe_data['COMPRESSION_FixedSize1ByteAligned'] == 1]\n",
    "c2 = ohe_data.loc[ohe_data['COMPRESSION_FixedSize2ByteAligned'] == 1]\n",
    "c3 = ohe_data.loc[ohe_data['COMPRESSION_FixedSize4ByteAligned'] == 1]\n",
    "\n",
    "fig=plt.figure()\n",
    "ax=fig.add_axes([0,0,1,1])\n",
    "ax.scatter(c1['INPUT_ROWS'], c1['RUNTIME_NS'], color='r')\n",
    "ax.scatter(c2['INPUT_ROWS'], c2['RUNTIME_NS'], color='b')\n",
    "ax.scatter(c3['INPUT_ROWS'], c3['RUNTIME_NS'], color='g')\n",
    "ax.set_xlabel('#Input Rows')\n",
    "ax.set_ylabel('Time')\n",
    "plt.show()"
   ]
  },
  {
   "cell_type": "code",
   "execution_count": null,
   "metadata": {},
   "outputs": [],
   "source": []
  }
 ],
 "metadata": {
  "kernelspec": {
   "display_name": "Python 3",
   "language": "python",
   "name": "python3"
  },
  "language_info": {
   "codemirror_mode": {
    "name": "ipython",
    "version": 3
   },
   "file_extension": ".py",
   "mimetype": "text/x-python",
   "name": "python",
   "nbconvert_exporter": "python",
   "pygments_lexer": "ipython3",
   "version": "3.6.9"
  }
 },
 "nbformat": 4,
 "nbformat_minor": 2
}
