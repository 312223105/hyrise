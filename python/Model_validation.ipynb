{
 "cells": [
  {
   "cell_type": "code",
   "execution_count": 1,
   "metadata": {},
   "outputs": [],
   "source": [
    "# four error measures mentioned in the master thesis: MAPE, NRMSE, LnQ, and MAE."
   ]
  },
  {
   "cell_type": "code",
   "execution_count": 14,
   "metadata": {},
   "outputs": [],
   "source": [
    "import pandas as pd\n",
    "from sklearn.linear_model import LinearRegression\n",
    "from sklearn.metrics import mean_squared_error\n",
    "import matplotlib.pyplot as plt\n",
    "import joblib\n",
    "import numpy as np"
   ]
  },
  {
   "cell_type": "code",
   "execution_count": null,
   "metadata": {},
   "outputs": [],
   "source": []
  },
  {
   "cell_type": "code",
   "execution_count": null,
   "metadata": {},
   "outputs": [],
   "source": []
  },
  {
   "cell_type": "code",
   "execution_count": 3,
   "metadata": {},
   "outputs": [],
   "source": [
    "#Load tpch test data\n",
    "table_scans = pd.read_csv(\"data/table_scans.csv\")\n",
    "table_meta_data = pd.read_csv(\"data/table_meta_data.csv\")\n",
    "segment_meta_data = pd.read_csv(\"data/segment_meta_data.csv\")\n",
    "attribute_meta_data = pd.read_csv(\"data/attribute_meta_data.csv\")"
   ]
  },
  {
   "cell_type": "code",
   "execution_count": 4,
   "metadata": {},
   "outputs": [],
   "source": [
    "table_scans = table_scans.merge(table_meta_data, on=\"TABLE_NAME\", how=\"left\")\n",
    "table_scans = table_scans.merge(attribute_meta_data, on=\"COLUMN_NAME\", how=\"left\")\n",
    "table_scans = table_scans.merge(segment_meta_data, on=\"COLUMN_NAME\", how=\"left\")"
   ]
  },
  {
   "cell_type": "code",
   "execution_count": 5,
   "metadata": {},
   "outputs": [],
   "source": [
    "table_scans = table_scans[['SCAN_TYPE', 'TABLE_NAME', 'COLUMN_NAME', 'INPUT_ROWS',\n",
    "       'OUTPUT_ROWS', 'RUNTIME_NS', 'ROW_COUNT_x',\n",
    "       'MAX_CHUNK_SIZE', 'DATA_TYPE',\n",
    "       'ENCODING', 'SIZE_IN_BYTES']]\n",
    "table_scans = table_scans.rename(columns={\"TABLE_NAME_x\": \"TABLE_NAME\", \"ROW_COUNT_x\": \"ROW_COUNT\"})"
   ]
  },
  {
   "cell_type": "code",
   "execution_count": 6,
   "metadata": {},
   "outputs": [
    {
     "data": {
      "text/html": [
       "<div>\n",
       "<style scoped>\n",
       "    .dataframe tbody tr th:only-of-type {\n",
       "        vertical-align: middle;\n",
       "    }\n",
       "\n",
       "    .dataframe tbody tr th {\n",
       "        vertical-align: top;\n",
       "    }\n",
       "\n",
       "    .dataframe thead th {\n",
       "        text-align: right;\n",
       "    }\n",
       "</style>\n",
       "<table border=\"1\" class=\"dataframe\">\n",
       "  <thead>\n",
       "    <tr style=\"text-align: right;\">\n",
       "      <th></th>\n",
       "      <th>SCAN_TYPE</th>\n",
       "      <th>TABLE_NAME</th>\n",
       "      <th>COLUMN_NAME</th>\n",
       "      <th>INPUT_ROWS</th>\n",
       "      <th>OUTPUT_ROWS</th>\n",
       "      <th>RUNTIME_NS</th>\n",
       "      <th>ROW_COUNT</th>\n",
       "      <th>MAX_CHUNK_SIZE</th>\n",
       "      <th>DATA_TYPE</th>\n",
       "      <th>ENCODING</th>\n",
       "      <th>SIZE_IN_BYTES</th>\n",
       "    </tr>\n",
       "  </thead>\n",
       "  <tbody>\n",
       "    <tr>\n",
       "      <th>0</th>\n",
       "      <td>COLUMN_SCAN</td>\n",
       "      <td>customer</td>\n",
       "      <td>c_acctbal</td>\n",
       "      <td>150000</td>\n",
       "      <td>68274</td>\n",
       "      <td>18720022</td>\n",
       "      <td>150000</td>\n",
       "      <td>100000</td>\n",
       "      <td>float</td>\n",
       "      <td>Dictionary</td>\n",
       "      <td>782068</td>\n",
       "    </tr>\n",
       "    <tr>\n",
       "      <th>1</th>\n",
       "      <td>COLUMN_SCAN</td>\n",
       "      <td>customer</td>\n",
       "      <td>c_acctbal</td>\n",
       "      <td>150000</td>\n",
       "      <td>68274</td>\n",
       "      <td>18720022</td>\n",
       "      <td>150000</td>\n",
       "      <td>100000</td>\n",
       "      <td>float</td>\n",
       "      <td>Dictionary</td>\n",
       "      <td>295668</td>\n",
       "    </tr>\n",
       "    <tr>\n",
       "      <th>2</th>\n",
       "      <td>REFERENCE_SCAN</td>\n",
       "      <td>customer</td>\n",
       "      <td>c_phone</td>\n",
       "      <td>68274</td>\n",
       "      <td>18927</td>\n",
       "      <td>9302836</td>\n",
       "      <td>150000</td>\n",
       "      <td>100000</td>\n",
       "      <td>string</td>\n",
       "      <td>Dictionary</td>\n",
       "      <td>3600064</td>\n",
       "    </tr>\n",
       "    <tr>\n",
       "      <th>3</th>\n",
       "      <td>REFERENCE_SCAN</td>\n",
       "      <td>customer</td>\n",
       "      <td>c_phone</td>\n",
       "      <td>68274</td>\n",
       "      <td>18927</td>\n",
       "      <td>9302836</td>\n",
       "      <td>150000</td>\n",
       "      <td>100000</td>\n",
       "      <td>string</td>\n",
       "      <td>Dictionary</td>\n",
       "      <td>1700064</td>\n",
       "    </tr>\n",
       "    <tr>\n",
       "      <th>4</th>\n",
       "      <td>COLUMN_SCAN</td>\n",
       "      <td>customer</td>\n",
       "      <td>c_acctbal</td>\n",
       "      <td>150000</td>\n",
       "      <td>68269</td>\n",
       "      <td>19204111</td>\n",
       "      <td>150000</td>\n",
       "      <td>100000</td>\n",
       "      <td>float</td>\n",
       "      <td>Dictionary</td>\n",
       "      <td>782068</td>\n",
       "    </tr>\n",
       "  </tbody>\n",
       "</table>\n",
       "</div>"
      ],
      "text/plain": [
       "        SCAN_TYPE TABLE_NAME COLUMN_NAME  INPUT_ROWS  OUTPUT_ROWS  RUNTIME_NS  \\\n",
       "0     COLUMN_SCAN   customer   c_acctbal      150000        68274    18720022   \n",
       "1     COLUMN_SCAN   customer   c_acctbal      150000        68274    18720022   \n",
       "2  REFERENCE_SCAN   customer     c_phone       68274        18927     9302836   \n",
       "3  REFERENCE_SCAN   customer     c_phone       68274        18927     9302836   \n",
       "4     COLUMN_SCAN   customer   c_acctbal      150000        68269    19204111   \n",
       "\n",
       "   ROW_COUNT  MAX_CHUNK_SIZE DATA_TYPE    ENCODING  SIZE_IN_BYTES  \n",
       "0     150000          100000     float  Dictionary         782068  \n",
       "1     150000          100000     float  Dictionary         295668  \n",
       "2     150000          100000    string  Dictionary        3600064  \n",
       "3     150000          100000    string  Dictionary        1700064  \n",
       "4     150000          100000     float  Dictionary         782068  "
      ]
     },
     "execution_count": 6,
     "metadata": {},
     "output_type": "execute_result"
    }
   ],
   "source": [
    "table_scans.head()"
   ]
  },
  {
   "cell_type": "code",
   "execution_count": 7,
   "metadata": {},
   "outputs": [
    {
     "data": {
      "text/html": [
       "<div>\n",
       "<style scoped>\n",
       "    .dataframe tbody tr th:only-of-type {\n",
       "        vertical-align: middle;\n",
       "    }\n",
       "\n",
       "    .dataframe tbody tr th {\n",
       "        vertical-align: top;\n",
       "    }\n",
       "\n",
       "    .dataframe thead th {\n",
       "        text-align: right;\n",
       "    }\n",
       "</style>\n",
       "<table border=\"1\" class=\"dataframe\">\n",
       "  <thead>\n",
       "    <tr style=\"text-align: right;\">\n",
       "      <th></th>\n",
       "      <th>INPUT_ROWS</th>\n",
       "      <th>OUTPUT_ROWS</th>\n",
       "      <th>RUNTIME_NS</th>\n",
       "      <th>ROW_COUNT</th>\n",
       "      <th>MAX_CHUNK_SIZE</th>\n",
       "      <th>SIZE_IN_BYTES</th>\n",
       "      <th>SELECTIVITY</th>\n",
       "      <th>SCAN_TYPE_COLUMN_SCAN</th>\n",
       "      <th>DATA_TYPE_float</th>\n",
       "      <th>DATA_TYPE_int</th>\n",
       "      <th>DATA_TYPE_string</th>\n",
       "      <th>ENCODING_Dictionary</th>\n",
       "    </tr>\n",
       "  </thead>\n",
       "  <tbody>\n",
       "    <tr>\n",
       "      <th>0</th>\n",
       "      <td>150000</td>\n",
       "      <td>68274</td>\n",
       "      <td>18720022</td>\n",
       "      <td>150000</td>\n",
       "      <td>100000</td>\n",
       "      <td>782068</td>\n",
       "      <td>0.455160</td>\n",
       "      <td>1</td>\n",
       "      <td>1</td>\n",
       "      <td>0</td>\n",
       "      <td>0</td>\n",
       "      <td>1</td>\n",
       "    </tr>\n",
       "    <tr>\n",
       "      <th>1</th>\n",
       "      <td>150000</td>\n",
       "      <td>68274</td>\n",
       "      <td>18720022</td>\n",
       "      <td>150000</td>\n",
       "      <td>100000</td>\n",
       "      <td>295668</td>\n",
       "      <td>0.455160</td>\n",
       "      <td>1</td>\n",
       "      <td>1</td>\n",
       "      <td>0</td>\n",
       "      <td>0</td>\n",
       "      <td>1</td>\n",
       "    </tr>\n",
       "    <tr>\n",
       "      <th>4</th>\n",
       "      <td>150000</td>\n",
       "      <td>68269</td>\n",
       "      <td>19204111</td>\n",
       "      <td>150000</td>\n",
       "      <td>100000</td>\n",
       "      <td>782068</td>\n",
       "      <td>0.455127</td>\n",
       "      <td>1</td>\n",
       "      <td>1</td>\n",
       "      <td>0</td>\n",
       "      <td>0</td>\n",
       "      <td>1</td>\n",
       "    </tr>\n",
       "    <tr>\n",
       "      <th>5</th>\n",
       "      <td>150000</td>\n",
       "      <td>68269</td>\n",
       "      <td>19204111</td>\n",
       "      <td>150000</td>\n",
       "      <td>100000</td>\n",
       "      <td>295668</td>\n",
       "      <td>0.455127</td>\n",
       "      <td>1</td>\n",
       "      <td>1</td>\n",
       "      <td>0</td>\n",
       "      <td>0</td>\n",
       "      <td>1</td>\n",
       "    </tr>\n",
       "    <tr>\n",
       "      <th>8</th>\n",
       "      <td>150000</td>\n",
       "      <td>68247</td>\n",
       "      <td>19987001</td>\n",
       "      <td>150000</td>\n",
       "      <td>100000</td>\n",
       "      <td>782068</td>\n",
       "      <td>0.454980</td>\n",
       "      <td>1</td>\n",
       "      <td>1</td>\n",
       "      <td>0</td>\n",
       "      <td>0</td>\n",
       "      <td>1</td>\n",
       "    </tr>\n",
       "  </tbody>\n",
       "</table>\n",
       "</div>"
      ],
      "text/plain": [
       "   INPUT_ROWS  OUTPUT_ROWS  RUNTIME_NS  ROW_COUNT  MAX_CHUNK_SIZE  \\\n",
       "0      150000        68274    18720022     150000          100000   \n",
       "1      150000        68274    18720022     150000          100000   \n",
       "4      150000        68269    19204111     150000          100000   \n",
       "5      150000        68269    19204111     150000          100000   \n",
       "8      150000        68247    19987001     150000          100000   \n",
       "\n",
       "   SIZE_IN_BYTES  SELECTIVITY  SCAN_TYPE_COLUMN_SCAN  DATA_TYPE_float  \\\n",
       "0         782068     0.455160                      1                1   \n",
       "1         295668     0.455160                      1                1   \n",
       "4         782068     0.455127                      1                1   \n",
       "5         295668     0.455127                      1                1   \n",
       "8         782068     0.454980                      1                1   \n",
       "\n",
       "   DATA_TYPE_int  DATA_TYPE_string  ENCODING_Dictionary  \n",
       "0              0                 0                    1  \n",
       "1              0                 0                    1  \n",
       "4              0                 0                    1  \n",
       "5              0                 0                    1  \n",
       "8              0                 0                    1  "
      ]
     },
     "execution_count": 7,
     "metadata": {},
     "output_type": "execute_result"
    }
   ],
   "source": [
    "ohe_data = table_scans.drop(labels=['TABLE_NAME', 'COLUMN_NAME'], axis=1)\n",
    "# we only have column scans for now\n",
    "ohe_data = ohe_data.loc[ohe_data['SCAN_TYPE'] == 'COLUMN_SCAN']\n",
    "ohe_data['SELECTIVITY'] = (ohe_data['OUTPUT_ROWS'])/(ohe_data['INPUT_ROWS'])\n",
    "ohe_data = pd.get_dummies(ohe_data, columns=['SCAN_TYPE', 'DATA_TYPE', 'ENCODING'])\n",
    "ohe_data.head()"
   ]
  },
  {
   "cell_type": "code",
   "execution_count": 8,
   "metadata": {},
   "outputs": [],
   "source": [
    "# load model\n",
    "float_model = joblib.load('models/float_Dictionary_model.sav')\n",
    "int_model = joblib.load('models/int_Dictionary_model.sav')\n",
    "string_model = joblib.load('models/string_Dictionary_model.sav')"
   ]
  },
  {
   "cell_type": "code",
   "execution_count": 9,
   "metadata": {},
   "outputs": [],
   "source": [
    "float_data = ohe_data.loc[(ohe_data['DATA_TYPE_float'] == 1)]\n",
    "float_real_y = float_data[['RUNTIME_NS']]\n",
    "float_data = float_data.drop(labels=['DATA_TYPE_string', 'DATA_TYPE_int', 'SIZE_IN_BYTES', 'RUNTIME_NS'], axis=1)\n",
    "\n",
    "int_data = ohe_data.loc[(ohe_data['DATA_TYPE_int'] == 1)]\n",
    "int_real_y = int_data[['RUNTIME_NS']]\n",
    "int_data = int_data.drop(labels=['DATA_TYPE_string', 'DATA_TYPE_float', 'SIZE_IN_BYTES', 'RUNTIME_NS'], axis=1)\n",
    "\n",
    "string_data = ohe_data.loc[(ohe_data['DATA_TYPE_string'] == 1)]\n",
    "string_real_y = string_data[['RUNTIME_NS']]\n",
    "string_data = string_data.drop(labels=['DATA_TYPE_float', 'DATA_TYPE_int', 'SIZE_IN_BYTES', 'RUNTIME_NS'], axis=1)"
   ]
  },
  {
   "cell_type": "code",
   "execution_count": 26,
   "metadata": {},
   "outputs": [
    {
     "data": {
      "text/plain": [
       "38665593"
      ]
     },
     "execution_count": 26,
     "metadata": {},
     "output_type": "execute_result"
    }
   ],
   "source": []
  },
  {
   "cell_type": "code",
   "execution_count": 10,
   "metadata": {},
   "outputs": [],
   "source": [
    "# predict\n",
    "float_pred_y = float_model.predict(float_data)\n",
    "int_pred_y = int_model.predict(int_data)\n",
    "string_pred_y = string_model.predict(string_data)"
   ]
  },
  {
   "cell_type": "code",
   "execution_count": 40,
   "metadata": {},
   "outputs": [
    {
     "data": {
      "image/png": "[encoded data removed]",
      "text/plain": [
       "<Figure size 1080x288 with 4 Axes>"
      ]
     },
     "metadata": {
      "needs_background": "light"
     },
     "output_type": "display_data"
    }
   ],
   "source": [
    "fig, axs = plt.subplots(2, 3, figsize=(15,4))\n",
    "fig.suptitle('Datatype')\n",
    "\n",
    "axs[0,0].scatter(float_real_y, float_pred_y)\n",
    "axs[0,0].set_title('Float')\n",
    "axs[0,0].set_ylim([0, max(np.amax(float_pred_y), np.amax(float_real_y.to_numpy())) + 10000000])\n",
    "axs[0,0].set_xlim([0, max(np.amax(float_pred_y), np.amax(float_real_y.to_numpy())) + 10000000])\n",
    "axs[1,0].scatter(float_real_y, float_pred_y)\n",
    "axs[1,0].set_title('Float')\n",
    "axs[1].scatter(int_real_y, int_pred_y)\n",
    "axs[1].set_title('Int')\n",
    "axs[1].set_ylim([0, max(np.amax(int_pred_y), np.amax(int_real_y.to_numpy())) + 10000000])\n",
    "axs[1].set_xlim([0, max(np.amax(int_pred_y), np.amax(int_real_y.to_numpy())) + 10000000])\n",
    "axs[2].scatter(string_real_y, string_pred_y)\n",
    "axs[2].set_title('String')\n",
    "axs[2].set_ylim([0, max(np.amax(string_pred_y), np.amax(string_real_y.to_numpy())) + 10000000])\n",
    "axs[2].set_xlim([0, max(np.amax(string_pred_y), np.amax(string_real_y.to_numpy())) + 10000000])\n",
    "# max_y = max(max(np.amax(float_pred_y), np.amax(int_pred_y)), np.amax(string_pred_y))\n",
    "# max_x = max(max(np.amax(float_real_y.to_numpy()), np.amax(int_real_y.to_numpy())), np.amax(string_real_y.to_numpy()))\n",
    "# max_scale = max(max_x, max_y)\n",
    "\n",
    "\n",
    "# for labels\n",
    "fig.add_subplot(111, frameon=False)\n",
    "# hide tick and tick label of the big axis\n",
    "plt.tick_params(labelcolor='none', top=False, bottom=False, left=False, right=False)\n",
    "plt.xlabel(\"Real Time\")\n",
    "plt.ylabel(\"Predicted Time\")\n",
    "plt.show()"
   ]
  },
  {
   "cell_type": "code",
   "execution_count": null,
   "metadata": {},
   "outputs": [],
   "source": []
  }
 ],
 "metadata": {
  "kernelspec": {
   "display_name": "Python 3",
   "language": "python",
   "name": "python3"
  },
  "language_info": {
   "codemirror_mode": {
    "name": "ipython",
    "version": 3
   },
   "file_extension": ".py",
   "mimetype": "text/x-python",
   "name": "python",
   "nbconvert_exporter": "python",
   "pygments_lexer": "ipython3",
   "version": "3.6.9"
  }
 },
 "nbformat": 4,
 "nbformat_minor": 2
}
